{
 "cells": [
  {
   "cell_type": "code",
   "execution_count": 1,
   "id": "303283c4",
   "metadata": {},
   "outputs": [],
   "source": [
    "MASTER_PATH = \"/mnt/4TBSSD/ntnhu/\"\n",
    "DISK_PATH = \"/mnt/shared_48tb/\"\n",
    "VBS_PATH = \"vbs\"\n",
    "MARINE_PATH = \"marine\"\n",
    "MARINE_VIDEO_PATH = \"extracted/MarineVideoKit\"\n",
    "V3C_KEYFRAME_DATA_PATH = \"VBS2022\"\n",
    "V3C1_VIDEO_DATA_PATH = \"V3C1_videos\"\n",
    "V3C2_VIDEO_DATA_PATH = \"V3C2_videos\""
   ]
  },
  {
   "cell_type": "code",
   "execution_count": 5,
   "id": "86351cfe",
   "metadata": {},
   "outputs": [],
   "source": [
    "# import clip\n",
    "import os\n",
    "import os.path as osp\n",
    "import sys\n",
    "import joblib\n",
    "import yaml\n",
    "# import configs\n",
    "\n",
    "sys.path.insert(1, osp.join(MASTER_PATH, \"utils_lib\"))\n",
    "import utils\n"
   ]
  },
  {
   "cell_type": "code",
   "execution_count": 6,
   "id": "2f00ac03-3048-4d9c-8f53-9c02f147f3ea",
   "metadata": {},
   "outputs": [],
   "source": [
    "# folder to load config file\n",
    "CONFIG_PATH = \"\"\n",
    "\n",
    "# Function to load yaml configuration file\n",
    "def load_config(config_name):\n",
    "    with open(os.path.join(CONFIG_PATH, config_name)) as file:\n",
    "        config = yaml.safe_load(file)\n",
    "\n",
    "    return config\n",
    "\n",
    "\n",
    "config = load_config(\"configs.yml\")"
   ]
  },
  {
   "cell_type": "markdown",
   "id": "41c6d272-cc9d-4381-9ede-f2b91a0c809c",
   "metadata": {},
   "source": [
    "### Marine Dataset"
   ]
  },
  {
   "cell_type": "code",
   "execution_count": 7,
   "id": "d5a1db8d",
   "metadata": {},
   "outputs": [],
   "source": [
    "video_path = osp.join(DISK_PATH, VBS_PATH, MARINE_PATH, MARINE_VIDEO_PATH, \"videos\")\n",
    "video_ids = utils.sort_list(os.listdir(video_path))\n",
    "video_names = [osp.join(video_path, x) for x in video_ids]\n",
    "\n",
    "thumb_path = osp.join(DISK_PATH, VBS_PATH, MARINE_PATH, MARINE_VIDEO_PATH, \"information/thumbnails\")\n",
    "thumb_ids = utils.sort_list(os.listdir(thumb_path))\n",
    "# thumb_names = [osp.join(thumb_path, x) for x in thumb_ids]\n",
    "\n",
    "frame_path = osp.join(DISK_PATH, VBS_PATH, MARINE_PATH, MARINE_VIDEO_PATH, \"information/selected_frames\")\n",
    "frame_ids = utils.sort_list(os.listdir(frame_path))\n",
    "frame_names = [osp.join(frame_path, x) for x in frame_ids]"
   ]
  },
  {
   "cell_type": "code",
   "execution_count": 8,
   "id": "ad7f358b",
   "metadata": {},
   "outputs": [],
   "source": [
    "filename = osp.join(DISK_PATH, VBS_PATH, MARINE_PATH, \"filenames.txt\")\n",
    "utils.save_list_to_txt(frame_names, filename)"
   ]
  },
  {
   "cell_type": "code",
   "execution_count": 9,
   "id": "01e1c074",
   "metadata": {},
   "outputs": [
    {
     "data": {
      "text/plain": [
       "'/mnt/shared_48tb/vbs/marine/filenames.txt'"
      ]
     },
     "execution_count": 9,
     "metadata": {},
     "output_type": "execute_result"
    }
   ],
   "source": [
    "filename"
   ]
  },
  {
   "cell_type": "code",
   "execution_count": 11,
   "id": "dcda696f-d7cf-4476-b1ea-674883ac156c",
   "metadata": {},
   "outputs": [],
   "source": [
    "# frame_names"
   ]
  },
  {
   "cell_type": "markdown",
   "id": "b90da5b9-cffa-4638-8e44-0832510ab84e",
   "metadata": {},
   "source": [
    "### V3C Dataset"
   ]
  },
  {
   "cell_type": "code",
   "execution_count": null,
   "id": "6c7967f4-b69a-4d9c-8f99-604c2938d710",
   "metadata": {},
   "outputs": [],
   "source": []
  }
 ],
 "metadata": {
  "kernelspec": {
   "display_name": "ntnhu_clip",
   "language": "python",
   "name": "ntnhu_clip"
  },
  "language_info": {
   "codemirror_mode": {
    "name": "ipython",
    "version": 3
   },
   "file_extension": ".py",
   "mimetype": "text/x-python",
   "name": "python",
   "nbconvert_exporter": "python",
   "pygments_lexer": "ipython3",
   "version": "3.7.13"
  }
 },
 "nbformat": 4,
 "nbformat_minor": 5
}
