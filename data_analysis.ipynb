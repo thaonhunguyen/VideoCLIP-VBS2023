{
 "cells": [
  {
   "cell_type": "code",
   "execution_count": 1,
   "id": "303283c4",
   "metadata": {},
   "outputs": [],
   "source": [
    "MASTER_PATH = \"/mnt/4TBSSD/ntnhu/\"\n",
    "DISK_PATH = \"/mnt/shared_48tb/\"\n",
    "DATA_PATH = \"vbs/marine/extracted/MarineVideoKit\"\n"
   ]
  },
  {
   "cell_type": "code",
   "execution_count": 2,
   "id": "86351cfe",
   "metadata": {},
   "outputs": [],
   "source": [
    "import clip\n",
    "import os\n",
    "import os.path as osp\n",
    "import sys\n",
    "import joblib\n",
    "\n",
    "sys.path.insert(1, osp.join(MASTER_PATH, \"utils_lib\"))\n",
    "import utils\n"
   ]
  },
  {
   "cell_type": "code",
   "execution_count": 3,
   "id": "d5a1db8d",
   "metadata": {},
   "outputs": [],
   "source": [
    "video_path = osp.join(DISK_PATH, DATA_PATH, \"videos\")\n",
    "video_ids = utils.sort_list(os.listdir(video_path))\n",
    "video_names = [osp.join(video_path, x) for x in video_ids]\n",
    "\n",
    "thumb_path = osp.join(DISK_PATH, DATA_PATH, \"information/thumbnails\")\n",
    "thumb_ids = utils.sort_list(os.listdir(thumb_path))\n",
    "# thumb_names = [osp.join(thumb_path, x) for x in thumb_ids]\n",
    "\n",
    "frame_path = osp.join(DISK_PATH, DATA_PATH, \"information/selected_frames\")\n",
    "frame_ids = utils.sort_list(os.listdir(frame_path))\n",
    "frame_names = [osp.join(frame_path, x) for x in frame_ids]"
   ]
  },
  {
   "cell_type": "code",
   "execution_count": 5,
   "id": "ad7f358b",
   "metadata": {},
   "outputs": [],
   "source": [
    "filename = osp.join(DISK_PATH, DATA_PATH, \"filenames.txt\")\n",
    "utils.save_list_to_txt(frame_names, filename)"
   ]
  },
  {
   "cell_type": "code",
   "execution_count": 6,
   "id": "01e1c074",
   "metadata": {},
   "outputs": [
    {
     "data": {
      "text/plain": [
       "'/mnt/shared_48tb/vbs/marine/extracted/MarineVideoKit/filenames.txt'"
      ]
     },
     "execution_count": 6,
     "metadata": {},
     "output_type": "execute_result"
    }
   ],
   "source": [
    "filename"
   ]
  },
  {
   "cell_type": "code",
   "execution_count": null,
   "id": "dc999a5d",
   "metadata": {},
   "outputs": [],
   "source": []
  }
 ],
 "metadata": {
  "kernelspec": {
   "display_name": "lsc21",
   "language": "python",
   "name": "lsc21"
  },
  "language_info": {
   "codemirror_mode": {
    "name": "ipython",
    "version": 3
   },
   "file_extension": ".py",
   "mimetype": "text/x-python",
   "name": "python",
   "nbconvert_exporter": "python",
   "pygments_lexer": "ipython3",
   "version": "3.9.5"
  }
 },
 "nbformat": 4,
 "nbformat_minor": 5
}
