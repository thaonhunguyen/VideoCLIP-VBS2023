{
 "cells": [
  {
   "cell_type": "code",
   "execution_count": 1,
   "id": "303283c4",
   "metadata": {},
   "outputs": [],
   "source": [
    "MASTER_PATH = \"/mnt/4TBSSD/ntnhu/\"\n",
    "DISK_PATH = \"/mnt/shared_48tb/\"\n",
    "VBS_PATH = \"vbs\"\n",
    "MARINE_PATH = \"marine\"\n",
    "MARINE_VIDEO_PATH = \"extracted/MarineVideoKit\"\n",
    "V3C_KEYFRAME_DATA_PATH = \"VBS2022\"\n",
    "V3C1_VIDEO_DATA_PATH = \"V3C1_videos\"\n",
    "V3C2_VIDEO_DATA_PATH = \"V3C2_videos\""
   ]
  },
  {
   "cell_type": "code",
   "execution_count": 2,
   "id": "86351cfe",
   "metadata": {},
   "outputs": [
    {
     "name": "stderr",
     "output_type": "stream",
     "text": [
      "/home/ntnhu/.conda/envs/ntnhu_clip/lib/python3.7/site-packages/tqdm/auto.py:22: TqdmWarning: IProgress not found. Please update jupyter and ipywidgets. See https://ipywidgets.readthedocs.io/en/stable/user_install.html\n",
      "  from .autonotebook import tqdm as notebook_tqdm\n"
     ]
    }
   ],
   "source": [
    "# import clip\n",
    "import os\n",
    "import os.path as osp\n",
    "import sys\n",
    "import joblib\n",
    "import yaml\n",
    "import pickle\n",
    "import clip\n",
    "import dataset_helpers\n",
    "# import configs\n",
    "\n",
    "# sys.path.insert(1, osp.join(MASTER_PATH, \"helpers_lib\"))\n",
    "import helpers\n",
    "import time\n"
   ]
  },
  {
   "cell_type": "code",
   "execution_count": 3,
   "id": "2f00ac03-3048-4d9c-8f53-9c02f147f3ea",
   "metadata": {},
   "outputs": [],
   "source": [
    "# folder to load config file\n",
    "CONFIG_PATH = \"\"\n",
    "\n",
    "# Function to load yaml configuration file\n",
    "def load_config(config_name):\n",
    "    with open(os.path.join(CONFIG_PATH, config_name)) as file:\n",
    "        config = yaml.safe_load(file)\n",
    "\n",
    "    return config\n",
    "\n",
    "\n",
    "config = load_config(\"configs.yml\")"
   ]
  },
  {
   "cell_type": "code",
   "execution_count": null,
   "id": "e1d29bbd-0adc-40fd-b550-2ab5d0753c57",
   "metadata": {},
   "outputs": [],
   "source": []
  },
  {
   "cell_type": "code",
   "execution_count": null,
   "id": "90d3a460-8d2f-4764-ba5b-9787eedd276b",
   "metadata": {},
   "outputs": [],
   "source": []
  },
  {
   "cell_type": "markdown",
   "id": "41c6d272-cc9d-4381-9ede-f2b91a0c809c",
   "metadata": {
    "tags": []
   },
   "source": [
    "### Marine Dataset"
   ]
  },
  {
   "cell_type": "code",
   "execution_count": 4,
   "id": "d5a1db8d",
   "metadata": {},
   "outputs": [],
   "source": [
    "video_path = osp.join(DISK_PATH, VBS_PATH, MARINE_PATH, MARINE_VIDEO_PATH, \"videos\")\n",
    "video_ids = helpers.sort_list(os.listdir(video_path))\n",
    "video_names = [osp.join(video_path, x) for x in video_ids]\n",
    "\n",
    "thumb_path = osp.join(DISK_PATH, VBS_PATH, MARINE_PATH, MARINE_VIDEO_PATH, \"information/thumbnails\")\n",
    "thumb_ids = helpers.sort_list(os.listdir(thumb_path))\n",
    "# thumb_names = [osp.join(thumb_path, x) for x in thumb_ids]\n",
    "\n",
    "frame_path = osp.join(DISK_PATH, VBS_PATH, MARINE_PATH, MARINE_VIDEO_PATH, \"information/selected_frames\")\n",
    "frame_ids = helpers.sort_list(os.listdir(frame_path))\n",
    "frame_names = [osp.join(frame_path, x)[21:] for x in frame_ids]"
   ]
  },
  {
   "cell_type": "code",
   "execution_count": 5,
   "id": "1e9ebfe4-615c-4a8c-a497-e2fa92d7893e",
   "metadata": {},
   "outputs": [
    {
     "data": {
      "text/plain": [
       "'marine/extracted/MarineVideoKit/information/selected_frames/Ambon_Apr2012_0001_00001.jpg'"
      ]
     },
     "execution_count": 5,
     "metadata": {},
     "output_type": "execute_result"
    }
   ],
   "source": [
    "frame_names[0]"
   ]
  },
  {
   "cell_type": "code",
   "execution_count": 6,
   "id": "63cf6d79-89a7-4d4d-a902-d81fe117e425",
   "metadata": {},
   "outputs": [
    {
     "name": "stdout",
     "output_type": "stream",
     "text": [
      "Dataset name:  marine\n"
     ]
    }
   ],
   "source": [
    "DATASET_NAME = \"marine\"\n",
    "EMBEDDING_PATH = osp.join(DISK_PATH, VBS_PATH, 'embedding_features')\n",
    "FEATURE_DICT_PATH = osp.join(EMBEDDING_PATH, f'{DATASET_NAME}_L14_336_features_128.pkl')\n",
    "FEATURE_PATH = osp.join(EMBEDDING_PATH, f'{DATASET_NAME}_L14_336_features_128')\n",
    "\n",
    "print(\"Dataset name: \", DATASET_NAME)\n",
    "# clip = CLIPSearchEngine(src_path=DATASET_MASTER_PATH, feature_path=args.feature_path, batch_size=args.batch_size, generate_features=args.generate_features)\n",
    "if DATASET_NAME == 'marine':\n",
    "    dataset_path = osp.join(MARINE_PATH, MARINE_VIDEO_PATH)\n",
    "elif DATASET_NAME == 'V3C':\n",
    "    dataset_path = osp.join(V3C_KEYFRAME_DATA_PATH, 'keyframes')\n",
    "src_path = osp.join(DISK_PATH, VBS_PATH)\n",
    "image_name_path = osp.join(src_path, f'{DATASET_NAME}_filenames.txt')\n",
    "\n",
    "clip_model = dataset_helpers.CLIPSearchEngine(DATASET_NAME, src_path=osp.join(DISK_PATH, VBS_PATH), feature_path=FEATURE_DICT_PATH, generate_features=True, dataset_path=dataset_path, image_name_path=image_name_path)\n",
    "# clip_model.encode_dataset(entire_dataset=True)"
   ]
  },
  {
   "cell_type": "code",
   "execution_count": 7,
   "id": "21e2b755-53bf-463b-a82c-ad58a7eecd90",
   "metadata": {},
   "outputs": [
    {
     "name": "stdout",
     "output_type": "stream",
     "text": [
      "Loading feature files ...\n",
      "Function load_features elapsed time: 0:00:00.330944\n"
     ]
    }
   ],
   "source": [
    "clip_model.load_features()"
   ]
  },
  {
   "cell_type": "code",
   "execution_count": 8,
   "id": "b5a210d5-8d6f-41fa-81cf-a1e61661c3fd",
   "metadata": {},
   "outputs": [],
   "source": [
    "# !python3 dataset_helpers.py"
   ]
  },
  {
   "cell_type": "code",
   "execution_count": 9,
   "id": "e64a9370-68e8-4758-b729-2b31a68c6136",
   "metadata": {},
   "outputs": [],
   "source": [
    "query = 'two cats on the street'\n"
   ]
  },
  {
   "cell_type": "code",
   "execution_count": 11,
   "id": "92933ea5-ea7b-4bb7-9ba4-a2b418f6582f",
   "metadata": {},
   "outputs": [
    {
     "name": "stdout",
     "output_type": "stream",
     "text": [
      "Time:  0.046443939208984375\n"
     ]
    }
   ],
   "source": [
    "begin = time.time()\n",
    "best_images = clip_model.search_query(query, num_matches=1000, ss_type='other')\n",
    "end = time.time()\n",
    "print(\"Time: \", end - begin)\n",
    "# print(\"Length of features: \", len(clip.features))"
   ]
  },
  {
   "cell_type": "code",
   "execution_count": 12,
   "id": "e8372a84-fcda-4a77-bcac-54427ef75c0b",
   "metadata": {},
   "outputs": [
    {
     "ename": "NameError",
     "evalue": "name 'plot_figures' is not defined",
     "output_type": "error",
     "traceback": [
      "\u001b[0;31m---------------------------------------------------------------------------\u001b[0m",
      "\u001b[0;31mNameError\u001b[0m                                 Traceback (most recent call last)",
      "\u001b[0;32m/tmp/ipykernel_32183/4066669463.py\u001b[0m in \u001b[0;36m<module>\u001b[0;34m\u001b[0m\n\u001b[0;32m----> 1\u001b[0;31m \u001b[0mdataset_helpers\u001b[0m\u001b[0;34m.\u001b[0m\u001b[0mdisplay_results\u001b[0m\u001b[0;34m(\u001b[0m\u001b[0mbest_images\u001b[0m\u001b[0;34m[\u001b[0m\u001b[0;34m:\u001b[0m\u001b[0;36m100\u001b[0m\u001b[0;34m]\u001b[0m\u001b[0;34m,\u001b[0m \u001b[0mfigsize\u001b[0m\u001b[0;34m=\u001b[0m\u001b[0;34m(\u001b[0m\u001b[0;36m15\u001b[0m\u001b[0;34m,\u001b[0m \u001b[0;36m60\u001b[0m\u001b[0;34m)\u001b[0m\u001b[0;34m,\u001b[0m \u001b[0msubplot_size\u001b[0m\u001b[0;34m=\u001b[0m\u001b[0;34m(\u001b[0m\u001b[0;36m20\u001b[0m\u001b[0;34m,\u001b[0m\u001b[0;36m3\u001b[0m\u001b[0;34m)\u001b[0m\u001b[0;34m)\u001b[0m\u001b[0;34m\u001b[0m\u001b[0;34m\u001b[0m\u001b[0m\n\u001b[0m",
      "\u001b[0;32m/mnt/4TBSSD/ntnhu/VBS2023/VideoCLIP-VBS2023/dataset_helpers.py\u001b[0m in \u001b[0;36mdisplay_results\u001b[0;34m(image_list, figsize, subplot_size)\u001b[0m\n\u001b[1;32m    324\u001b[0m \u001b[0;31m#         try:\u001b[0m\u001b[0;34m\u001b[0m\u001b[0;34m\u001b[0m\u001b[0;34m\u001b[0m\u001b[0m\n\u001b[1;32m    325\u001b[0m         \u001b[0mimage_ids\u001b[0m \u001b[0;34m=\u001b[0m \u001b[0;34m[\u001b[0m\u001b[0mitem\u001b[0m\u001b[0;34m[\u001b[0m\u001b[0;34m'path'\u001b[0m\u001b[0;34m]\u001b[0m \u001b[0;32mfor\u001b[0m \u001b[0mitem\u001b[0m \u001b[0;32min\u001b[0m \u001b[0mimage_list\u001b[0m\u001b[0;34m]\u001b[0m\u001b[0;34m\u001b[0m\u001b[0;34m\u001b[0m\u001b[0m\n\u001b[0;32m--> 326\u001b[0;31m         \u001b[0mplot_figures\u001b[0m\u001b[0;34m(\u001b[0m\u001b[0mimage_ids\u001b[0m\u001b[0;34m,\u001b[0m \u001b[0mfigsize\u001b[0m\u001b[0;34m=\u001b[0m\u001b[0mfigsize\u001b[0m\u001b[0;34m,\u001b[0m \u001b[0msubplot_size\u001b[0m\u001b[0;34m=\u001b[0m\u001b[0msubplot_size\u001b[0m\u001b[0;34m)\u001b[0m\u001b[0;34m\u001b[0m\u001b[0;34m\u001b[0m\u001b[0m\n\u001b[0m\u001b[1;32m    327\u001b[0m \u001b[0;31m#         except:\u001b[0m\u001b[0;34m\u001b[0m\u001b[0;34m\u001b[0m\u001b[0;34m\u001b[0m\u001b[0m\n\u001b[1;32m    328\u001b[0m \u001b[0;31m#             print('Can\\'t find best matched images.')\u001b[0m\u001b[0;34m\u001b[0m\u001b[0;34m\u001b[0m\u001b[0;34m\u001b[0m\u001b[0m\n",
      "\u001b[0;31mNameError\u001b[0m: name 'plot_figures' is not defined"
     ]
    }
   ],
   "source": [
    "dataset_helpers.display_results(best_images[:100], figsize=(15, 60), subplot_size=(20,3))"
   ]
  },
  {
   "cell_type": "code",
   "execution_count": null,
   "id": "f87d7603-d4c6-48b5-92b3-6fd4d13e3780",
   "metadata": {},
   "outputs": [],
   "source": []
  },
  {
   "cell_type": "markdown",
   "id": "b90da5b9-cffa-4638-8e44-0832510ab84e",
   "metadata": {
    "tags": []
   },
   "source": [
    "### V3C Dataset"
   ]
  },
  {
   "cell_type": "code",
   "execution_count": 4,
   "id": "6c7967f4-b69a-4d9c-8f99-604c2938d710",
   "metadata": {},
   "outputs": [],
   "source": [
    "vbs_path = '/mnt/shared_48tb/vbs/VBS2022/metadata'"
   ]
  },
  {
   "cell_type": "code",
   "execution_count": 5,
   "id": "c509824e-7228-43d5-a4ed-5dd9a69b4304",
   "metadata": {},
   "outputs": [],
   "source": [
    "image_names = joblib.load(osp.join(vbs_path, 'image_names.joblib'))"
   ]
  },
  {
   "cell_type": "code",
   "execution_count": 6,
   "id": "8cbbbfcd-134b-4254-942d-0315a0075df3",
   "metadata": {},
   "outputs": [
    {
     "data": {
      "text/plain": [
       "2508110"
      ]
     },
     "execution_count": 6,
     "metadata": {},
     "output_type": "execute_result"
    }
   ],
   "source": [
    "len(image_names)"
   ]
  },
  {
   "cell_type": "code",
   "execution_count": 13,
   "id": "f4dde82d-7514-4b3f-93ff-1b137986160d",
   "metadata": {},
   "outputs": [],
   "source": [
    "temp = [x[12:] for x in image_names]"
   ]
  },
  {
   "cell_type": "code",
   "execution_count": 16,
   "id": "cdd12138-594b-4957-bcba-924ee8aa4892",
   "metadata": {},
   "outputs": [],
   "source": [
    "helpers.save_list_to_txt(temp, '/mnt/shared_48tb/vbs/VBS2022/V3C_image_names.txt')"
   ]
  },
  {
   "cell_type": "code",
   "execution_count": null,
   "id": "2660364d-9f44-432b-96bc-7aa2e8ae1d9d",
   "metadata": {},
   "outputs": [],
   "source": []
  }
 ],
 "metadata": {
  "kernelspec": {
   "display_name": "ntnhu_clip",
   "language": "python",
   "name": "ntnhu_clip"
  },
  "language_info": {
   "codemirror_mode": {
    "name": "ipython",
    "version": 3
   },
   "file_extension": ".py",
   "mimetype": "text/x-python",
   "name": "python",
   "nbconvert_exporter": "python",
   "pygments_lexer": "ipython3",
   "version": "3.7.13"
  }
 },
 "nbformat": 4,
 "nbformat_minor": 5
}
