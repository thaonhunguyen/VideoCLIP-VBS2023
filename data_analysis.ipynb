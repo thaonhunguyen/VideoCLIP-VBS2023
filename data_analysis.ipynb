{
 "cells": [
  {
   "cell_type": "code",
   "execution_count": 4,
   "id": "303283c4",
   "metadata": {},
   "outputs": [],
   "source": [
    "MASTER_PATH = \"/mnt/4TBSSD/ntnhu/\"\n",
    "DISK_PATH = \"/mnt/shared_48tb/\"\n",
    "VBS_PATH = \"vbs\"\n",
    "MARINE_PATH = \"marine\"\n",
    "MARINE_VIDEO_PATH = \"extracted/MarineVideoKit\"\n",
    "V3C_KEYFRAME_DATA_PATH = \"VBS2022\"\n",
    "V3C1_VIDEO_DATA_PATH = \"V3C1_videos\"\n",
    "V3C2_VIDEO_DATA_PATH = \"V3C2_videos\""
   ]
  },
  {
   "cell_type": "code",
   "execution_count": 5,
   "id": "86351cfe",
   "metadata": {},
   "outputs": [],
   "source": [
    "# import clip\n",
    "import os\n",
    "import os.path as osp\n",
    "import sys\n",
    "import joblib\n",
    "import yaml\n",
    "import pickle\n",
    "import clip\n",
    "import dataset_helpers\n",
    "# import configs\n",
    "\n",
    "# sys.path.insert(1, osp.join(MASTER_PATH, \"helpers_lib\"))\n",
    "import helpers\n"
   ]
  },
  {
   "cell_type": "code",
   "execution_count": 6,
   "id": "2f00ac03-3048-4d9c-8f53-9c02f147f3ea",
   "metadata": {},
   "outputs": [],
   "source": [
    "# folder to load config file\n",
    "CONFIG_PATH = \"\"\n",
    "\n",
    "# Function to load yaml configuration file\n",
    "def load_config(config_name):\n",
    "    with open(os.path.join(CONFIG_PATH, config_name)) as file:\n",
    "        config = yaml.safe_load(file)\n",
    "\n",
    "    return config\n",
    "\n",
    "\n",
    "config = load_config(\"configs.yml\")"
   ]
  },
  {
   "cell_type": "code",
   "execution_count": null,
   "id": "761ec69c-4fda-432e-9952-c5a2dd30ad48",
   "metadata": {},
   "outputs": [],
   "source": []
  },
  {
   "cell_type": "code",
   "execution_count": null,
   "id": "58be85ee-d6ec-4fad-a4cb-fb9b18c9fddf",
   "metadata": {},
   "outputs": [],
   "source": []
  },
  {
   "cell_type": "code",
   "execution_count": null,
   "id": "e1d29bbd-0adc-40fd-b550-2ab5d0753c57",
   "metadata": {},
   "outputs": [],
   "source": []
  },
  {
   "cell_type": "code",
   "execution_count": null,
   "id": "90d3a460-8d2f-4764-ba5b-9787eedd276b",
   "metadata": {},
   "outputs": [],
   "source": []
  },
  {
   "cell_type": "markdown",
   "id": "41c6d272-cc9d-4381-9ede-f2b91a0c809c",
   "metadata": {},
   "source": [
    "### Marine Dataset"
   ]
  },
  {
   "cell_type": "code",
   "execution_count": 7,
   "id": "d5a1db8d",
   "metadata": {},
   "outputs": [],
   "source": [
    "video_path = osp.join(DISK_PATH, VBS_PATH, MARINE_PATH, MARINE_VIDEO_PATH, \"videos\")\n",
    "video_ids = helpers.sort_list(os.listdir(video_path))\n",
    "video_names = [osp.join(video_path, x) for x in video_ids]\n",
    "\n",
    "thumb_path = osp.join(DISK_PATH, VBS_PATH, MARINE_PATH, MARINE_VIDEO_PATH, \"information/thumbnails\")\n",
    "thumb_ids = helpers.sort_list(os.listdir(thumb_path))\n",
    "# thumb_names = [osp.join(thumb_path, x) for x in thumb_ids]\n",
    "\n",
    "frame_path = osp.join(DISK_PATH, VBS_PATH, MARINE_PATH, MARINE_VIDEO_PATH, \"information/selected_frames\")\n",
    "frame_ids = helpers.sort_list(os.listdir(frame_path))\n",
    "frame_names = [osp.join(frame_path, x) for x in frame_ids]"
   ]
  },
  {
   "cell_type": "code",
   "execution_count": 8,
   "id": "ad7f358b",
   "metadata": {},
   "outputs": [],
   "source": [
    "# filename = osp.join(DISK_PATH, VBS_PATH, MARINE_PATH, \"filenames.txt\")\n",
    "# helpers.save_list_to_txt(frame_names, filename)"
   ]
  },
  {
   "cell_type": "code",
   "execution_count": 10,
   "id": "dcda696f-d7cf-4476-b1ea-674883ac156c",
   "metadata": {},
   "outputs": [],
   "source": [
    "DATASET_NAME = \"marine\"\n",
    "\n",
    "MASTER_PATH = \"/mnt/4TBSSD/ntnhu/\"\n",
    "DISK_PATH = \"/mnt/shared_48tb/\"\n",
    "VBS_PATH = \"vbs\"\n",
    "MARINE_PATH = \"marine\"\n",
    "MARINE_VIDEO_PATH = \"extracted/MarineVideoKit\"\n",
    "V3C_KEYFRAME_DATA_PATH = \"VBS2022\"\n",
    "V3C1_VIDEO_DATA_PATH = \"V3C1_videos\"\n",
    "V3C2_VIDEO_DATA_PATH = \"V3C2_videos\"\n",
    "\n",
    "EMBEDDING_PATH = osp.join(DISK_PATH, VBS_PATH, 'embedding_features')\n",
    "FEATURE_DICT_PATH = osp.join(EMBEDDING_PATH, f'{DATASET_NAME}_L14_336_features_128.pkl')\n",
    "FEATURE_PATH = osp.join(EMBEDDING_PATH, f'{DATASET_NAME}_L14_336_features_128')"
   ]
  },
  {
   "cell_type": "code",
   "execution_count": 11,
   "id": "63d6724c-47eb-4068-b9ee-6c05ffbad404",
   "metadata": {},
   "outputs": [
    {
     "name": "stdout",
     "output_type": "stream",
     "text": [
      "Dataset name:  marine\n",
      "/mnt/shared_48tb/vbs/embedding_features/marine_L14_336_features_128.pkl\n",
      "True\n"
     ]
    }
   ],
   "source": [
    "print(\"Dataset name: \", DATASET_NAME)\n",
    "# clip = CLIPSearchEngine(src_path=DATASET_MASTER_PATH, feature_path=args.feature_path, batch_size=args.batch_size, generate_features=args.generate_features)\n",
    "if DATASET_NAME == 'marine':\n",
    "    dataset_path = osp.join(DISK_PATH, VBS_PATH, MARINE_PATH, MARINE_VIDEO_PATH)\n",
    "elif DATASET_NAME == 'V3C':\n",
    "    dataset_path = osp.join(DISK_PATH, VBS_PATH, V3C_KEYFRAME_DATA_PATH, 'keyframes')\n",
    "image_name_path = osp.join(dataset_path, f'{DATASET_NAME}_filenames.txt')\n",
    "# print(image_name_path)\n",
    "\n",
    "\n",
    "\n",
    "clip_model = dataset_helpers.CLIPSearchEngine(DATASET_NAME, src_path=osp.join(DISK_PATH, VBS_PATH), feature_path=FEATURE_DICT_PATH, generate_features=True, dataset_path=dataset_path, image_name_path=image_name_path)\n",
    "print(clip_model.feature_path)\n",
    "print(clip_model.generate_features)\n",
    "# clip_model.encode_dataset(entire_dataset=True)"
   ]
  },
  {
   "cell_type": "code",
   "execution_count": 13,
   "id": "8bb478bb-3920-41f9-9c7c-6d379297934e",
   "metadata": {},
   "outputs": [
    {
     "name": "stdout",
     "output_type": "stream",
     "text": [
      "Get all filenames\n",
      "Loading all image names ...\n",
      "/mnt/shared_48tb/vbs/marine/extracted/MarineVideoKit/marine_filenames.txt\n",
      "Encode a subset of the dataset...\n",
      "Generate features ...\n"
     ]
    },
    {
     "name": "stderr",
     "output_type": "stream",
     "text": [
      "100%|███████████████████████████████████████████████████████████████| 10/10 [00:04<00:00,  2.19it/s]\n"
     ]
    }
   ],
   "source": [
    "clip_model.encode_dataset(entire_dataset=False)"
   ]
  },
  {
   "cell_type": "code",
   "execution_count": 14,
   "id": "cd30d03d-6a8d-4b0d-8a3b-f4a0d8db302e",
   "metadata": {},
   "outputs": [
    {
     "name": "stdout",
     "output_type": "stream",
     "text": [
      "Loading feature files ...\n",
      "Function load_features elapsed time: 0:00:00.005624\n"
     ]
    }
   ],
   "source": [
    "clip_model.load_features()"
   ]
  },
  {
   "cell_type": "code",
   "execution_count": 17,
   "id": "89002bf0-cbf4-408f-b309-08f66ff7944d",
   "metadata": {},
   "outputs": [
    {
     "data": {
      "text/plain": [
       "160"
      ]
     },
     "execution_count": 17,
     "metadata": {},
     "output_type": "execute_result"
    }
   ],
   "source": [
    "len(clip_model.features)"
   ]
  },
  {
   "cell_type": "code",
   "execution_count": null,
   "id": "dc087795-c78e-4b17-a4b2-3f9fa738d5de",
   "metadata": {},
   "outputs": [],
   "source": []
  },
  {
   "cell_type": "code",
   "execution_count": null,
   "id": "cfa36fe1-1995-4300-b17c-879a43c8fcf4",
   "metadata": {},
   "outputs": [],
   "source": []
  },
  {
   "cell_type": "code",
   "execution_count": null,
   "id": "63cf6d79-89a7-4d4d-a902-d81fe117e425",
   "metadata": {},
   "outputs": [],
   "source": []
  },
  {
   "cell_type": "markdown",
   "id": "b90da5b9-cffa-4638-8e44-0832510ab84e",
   "metadata": {
    "jp-MarkdownHeadingCollapsed": true,
    "tags": []
   },
   "source": [
    "### V3C Dataset"
   ]
  },
  {
   "cell_type": "code",
   "execution_count": null,
   "id": "6c7967f4-b69a-4d9c-8f99-604c2938d710",
   "metadata": {},
   "outputs": [],
   "source": []
  }
 ],
 "metadata": {
  "kernelspec": {
   "display_name": "ntnhu_clip",
   "language": "python",
   "name": "ntnhu_clip"
  },
  "language_info": {
   "codemirror_mode": {
    "name": "ipython",
    "version": 3
   },
   "file_extension": ".py",
   "mimetype": "text/x-python",
   "name": "python",
   "nbconvert_exporter": "python",
   "pygments_lexer": "ipython3",
   "version": "3.7.13"
  }
 },
 "nbformat": 4,
 "nbformat_minor": 5
}
